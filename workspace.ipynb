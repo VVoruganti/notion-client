{
 "cells": [
  {
   "cell_type": "code",
   "execution_count": 5,
   "id": "416bd1f9-8d03-4312-8ced-30c7e16f269a",
   "metadata": {},
   "outputs": [],
   "source": [
    "from dotenv import load_dotenv\n",
    "import os\n",
    "import requests\n",
    "\n",
    "load_dotenv() # load the .env file with the environment variables and notion secret\n",
    "\n",
    "notion_secret = os.getenv(\"NOTION_SECRET\")\n",
    "database_id = os.getenv(\"DATABASE_ID\")"
   ]
  },
  {
   "cell_type": "code",
   "execution_count": 11,
   "id": "dfed1314-882d-48a8-9f96-a44d648ab90d",
   "metadata": {},
   "outputs": [
    {
     "name": "stdout",
     "output_type": "stream",
     "text": [
      "{'object': 'database', 'id': '72f44255-53f5-4492-bbf6-c338f67ba8b6', 'created_time': '2021-05-09T23:15:03.396Z', 'last_edited_time': '2021-06-05T22:54:00.000Z', 'title': [{'type': 'text', 'text': {'content': 'Company Database', 'link': None}, 'annotations': {'bold': False, 'italic': False, 'strikethrough': False, 'underline': False, 'code': False, 'color': 'default'}, 'plain_text': 'Company Database', 'href': None}], 'properties': {'Previous Sponsor': {'id': '>IJd', 'type': 'checkbox', 'checkbox': {}}, 'Industry': {'id': 'AoY<', 'type': 'multi_select', 'multi_select': {'options': [{'id': 'b1efad61-36f7-4e52-a4d1-6832f13c7fbe', 'name': 'Entertainment', 'color': 'yellow'}, {'id': 'e343fbcd-c2a9-4893-a05f-040f3064e1c4', 'name': 'Healthcare', 'color': 'orange'}, {'id': '4cb694bc-98e8-412a-9674-669327494612', 'name': 'Consumer Technology', 'color': 'brown'}, {'id': 'ecec05c7-2a1a-4ffa-afe3-5c1738f94e31', 'name': 'Developer Tools', 'color': 'default'}, {'id': '6dacdd9c-edfd-4dd6-baba-4a24efa76d4b', 'name': 'Transportation', 'color': 'green'}, {'id': '16cf18fe-7661-4076-af16-676f6863eebd', 'name': 'Enterprise Technology', 'color': 'pink'}, {'id': '04bcb2b9-659d-4be9-97fe-220dcfa35e03', 'name': 'Fashion & Beauty', 'color': 'blue'}, {'id': '1cca0f24-0472-45e6-bcbe-e3c02ff087e7', 'name': 'Health & Fitness', 'color': 'purple'}, {'id': 'f0bcef03-b10c-4c68-ab9b-8da1c0b69ab2', 'name': 'Financial Services', 'color': 'gray'}, {'id': 'd1c2553f-a0f1-48ee-ac9f-b9ba7686e2dd', 'name': 'Military', 'color': 'red'}, {'id': '6c5f3fcc-b21e-473b-898f-c7c58f760d9e', 'name': 'Blockchain & Crypto', 'color': 'green'}, {'id': 'b21be61c-2fb4-4460-a58e-65d4b21f812c', 'name': 'Education', 'color': 'green'}, {'id': '10ad06bf-2976-48a7-acdf-ace9f85d1d70', 'name': 'Venture Capital & Consulting', 'color': 'brown'}, {'id': '734c3f55-913a-45ac-84f7-f52fb83c12d3', 'name': 'Trading', 'color': 'blue'}, {'id': 'aa4c1dcb-ab2b-4e80-a7c7-305b932b5c49', 'name': 'Automotive', 'color': 'orange'}, {'id': 'b49ed919-74a5-4387-9741-43c34ae16d0e', 'name': 'Consulting', 'color': 'purple'}, {'id': '4a3dcc7f-07e5-4672-a108-4a8f35c77b09', 'name': 'Cyber Security', 'color': 'gray'}, {'id': '5706535a-ffb3-4cc1-9220-24065882d92d', 'name': 'Communication', 'color': 'default'}, {'id': 'aae767e2-71b1-4a97-83d5-ec33c50d6485', 'name': 'Media', 'color': 'pink'}]}}, 'Status': {'id': 'C|B[', 'type': 'select', 'select': {'options': [{'id': '1eb3a3d8-2190-4160-8364-a65bef0c83de', 'name': 'Need to Contact', 'color': 'red'}, {'id': 'fcf074be-7402-4c3a-8fcd-598752f53ad9', 'name': 'Rejected', 'color': 'default'}, {'id': 'b55d1235-7b28-4e41-a9d6-2cb18bc8261d', 'name': 'Accepted', 'color': 'purple'}, {'id': '3b2fcde4-9cfe-49c0-98b3-f25706cd59a4', 'name': 'Money In The Bank', 'color': 'gray'}, {'id': '2c358d80-ba6f-4fcb-8bc5-9c13efbbe152', 'name': 'In Discussions', 'color': 'blue'}, {'id': '09005f00-cfa3-401c-94f5-f0b6d1f3b1df', 'name': 'Initial Contact', 'color': 'yellow'}]}}, 'HackGT POC': {'id': 'ZwaR', 'type': 'people', 'people': {}}, 'Price': {'id': 'bj^\\\\', 'type': 'number', 'number': {'format': 'dollar'}}, 'Tier': {'id': 'f_:D', 'type': 'select', 'select': {'options': [{'id': '92036357-0743-4390-9870-7ff35ddfcfb8', 'name': 'Bronze', 'color': 'brown'}, {'id': '41780c6c-fb68-47c5-befe-396b340e3dca', 'name': 'Silver', 'color': 'default'}, {'id': '5a589392-3df1-4d81-8e0a-f1684d412cf7', 'name': 'Gold', 'color': 'yellow'}, {'id': 'd0c10935-5002-482d-b575-32677de60223', 'name': 'Platinum', 'color': 'gray'}, {'id': 'cd4a872a-dc94-414b-9833-b2d3d41d7040', 'name': 'Diamond', 'color': 'blue'}, {'id': 'e6b71135-fc55-48d4-b78b-9c013c1342b4', 'name': 'In-Kind', 'color': 'green'}]}}, 'URL': {'id': 'rHUS', 'type': 'url', 'url': {}}, 'Company': {'id': 'title', 'type': 'title', 'title': {}}}}\n"
     ]
    }
   ],
   "source": [
    "request_headers = {\n",
    "    \"Authorization\": \"Bearer {}\".format(notion_secret),\n",
    "    \"Notion-Version\": \"2021-05-13\"\n",
    "}\n",
    "\n",
    "x = requests.get(\"https://api.notion.com/v1/databases/{}\".format(database_id), headers=request_headers)\n",
    "print(x.json())"
   ]
  },
  {
   "cell_type": "code",
   "execution_count": null,
   "id": "3df87df6-9036-48f8-af74-7c5e2b26257d",
   "metadata": {},
   "outputs": [],
   "source": []
  },
  {
   "cell_type": "code",
   "execution_count": null,
   "id": "3212f1fa-f531-4ddc-8790-92a1527edb21",
   "metadata": {},
   "outputs": [],
   "source": []
  }
 ],
 "metadata": {
  "kernelspec": {
   "display_name": "Python 3",
   "language": "python",
   "name": "python3"
  },
  "language_info": {
   "codemirror_mode": {
    "name": "ipython",
    "version": 3
   },
   "file_extension": ".py",
   "mimetype": "text/x-python",
   "name": "python",
   "nbconvert_exporter": "python",
   "pygments_lexer": "ipython3",
   "version": "3.8.2"
  }
 },
 "nbformat": 4,
 "nbformat_minor": 5
}
